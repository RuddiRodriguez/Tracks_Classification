{
 "cells": [
  {
   "cell_type": "code",
   "execution_count": 67,
   "metadata": {},
   "outputs": [],
   "source": [
    "from sklearn.datasets import load_breast_cancer\n",
    "from sklearn.model_selection import train_test_split\n",
    "from sklearn.preprocessing import StandardScaler\n",
    "from sklearn.decomposition import PCA"
   ]
  },
  {
   "cell_type": "code",
   "execution_count": 68,
   "metadata": {},
   "outputs": [],
   "source": [
    "import numpy as np\n",
    "import pandas as pd\n",
    "import time \n",
    "import matplotlib.pyplot as plt\n",
    "import seaborn as sns"
   ]
  },
  {
   "cell_type": "code",
   "execution_count": 69,
   "metadata": {},
   "outputs": [
    {
     "name": "stdout",
     "output_type": "stream",
     "text": [
      "/Data/myData.csv\n"
     ]
    }
   ],
   "source": [
    "import os\n",
    "FEATURES_PATH = os.path.join(\"/Data\", \"myData.csv\")\n",
    "print (FEATURES_PATH)\n",
    "\n",
    "import pandas as pd\n",
    "\n",
    "\n",
    "def load_tracks_features_data(tracks_features=FEATURES_PATH):\n",
    "    #csv_path = os.path.join(\"Data\",\"myData.csv\")\n",
    "    csv_path='/Users/ruddirodriguez/Dropbox/Machine_Learning/Tracks_Classification/Data/myData1.csv'\n",
    "    return pd.read_csv(csv_path)\n",
    "features_tracks_origi = load_tracks_features_data()"
   ]
  },
  {
   "cell_type": "code",
   "execution_count": 70,
   "metadata": {},
   "outputs": [
    {
     "data": {
      "text/html": [
       "<div>\n",
       "<style scoped>\n",
       "    .dataframe tbody tr th:only-of-type {\n",
       "        vertical-align: middle;\n",
       "    }\n",
       "\n",
       "    .dataframe tbody tr th {\n",
       "        vertical-align: top;\n",
       "    }\n",
       "\n",
       "    .dataframe thead th {\n",
       "        text-align: right;\n",
       "    }\n",
       "</style>\n",
       "<table border=\"1\" class=\"dataframe\">\n",
       "  <thead>\n",
       "    <tr style=\"text-align: right;\">\n",
       "      <th></th>\n",
       "      <th>Id</th>\n",
       "      <th>netDisp</th>\n",
       "      <th>efficiency</th>\n",
       "      <th>straightness</th>\n",
       "      <th>Asym</th>\n",
       "      <th>bending</th>\n",
       "      <th>pointSkew</th>\n",
       "      <th>pointKurt</th>\n",
       "      <th>Classification</th>\n",
       "    </tr>\n",
       "  </thead>\n",
       "  <tbody>\n",
       "    <tr>\n",
       "      <th>0</th>\n",
       "      <td>movie1candledeno_Tracks_DM_1</td>\n",
       "      <td>10.900693</td>\n",
       "      <td>0.828096</td>\n",
       "      <td>0.780058</td>\n",
       "      <td>0.681895</td>\n",
       "      <td>0.047414</td>\n",
       "      <td>0.057740</td>\n",
       "      <td>1.707145</td>\n",
       "      <td>DM</td>\n",
       "    </tr>\n",
       "    <tr>\n",
       "      <th>1</th>\n",
       "      <td>movie1candledeno_Tracks_DM_2</td>\n",
       "      <td>13.095078</td>\n",
       "      <td>0.888593</td>\n",
       "      <td>0.966746</td>\n",
       "      <td>0.685196</td>\n",
       "      <td>0.019226</td>\n",
       "      <td>0.165591</td>\n",
       "      <td>1.767373</td>\n",
       "      <td>DM</td>\n",
       "    </tr>\n",
       "    <tr>\n",
       "      <th>2</th>\n",
       "      <td>movie1candledeno_Tracks_DM_3</td>\n",
       "      <td>0.953884</td>\n",
       "      <td>1.000000</td>\n",
       "      <td>NaN</td>\n",
       "      <td>0.693147</td>\n",
       "      <td>NaN</td>\n",
       "      <td>0.000000</td>\n",
       "      <td>1.000000</td>\n",
       "      <td>DM</td>\n",
       "    </tr>\n",
       "    <tr>\n",
       "      <th>3</th>\n",
       "      <td>movie1candledeno_Tracks_DM_4</td>\n",
       "      <td>8.906587</td>\n",
       "      <td>0.595560</td>\n",
       "      <td>0.682262</td>\n",
       "      <td>0.504435</td>\n",
       "      <td>0.010121</td>\n",
       "      <td>0.297802</td>\n",
       "      <td>1.712182</td>\n",
       "      <td>DM</td>\n",
       "    </tr>\n",
       "    <tr>\n",
       "      <th>4</th>\n",
       "      <td>movie1candledeno_Tracks_DM_5</td>\n",
       "      <td>30.413202</td>\n",
       "      <td>0.774028</td>\n",
       "      <td>0.858904</td>\n",
       "      <td>0.676339</td>\n",
       "      <td>0.011720</td>\n",
       "      <td>0.046033</td>\n",
       "      <td>1.818068</td>\n",
       "      <td>DM</td>\n",
       "    </tr>\n",
       "  </tbody>\n",
       "</table>\n",
       "</div>"
      ],
      "text/plain": [
       "                             Id    netDisp  efficiency  straightness  \\\n",
       "0  movie1candledeno_Tracks_DM_1  10.900693    0.828096      0.780058   \n",
       "1  movie1candledeno_Tracks_DM_2  13.095078    0.888593      0.966746   \n",
       "2  movie1candledeno_Tracks_DM_3   0.953884    1.000000           NaN   \n",
       "3  movie1candledeno_Tracks_DM_4   8.906587    0.595560      0.682262   \n",
       "4  movie1candledeno_Tracks_DM_5  30.413202    0.774028      0.858904   \n",
       "\n",
       "       Asym   bending  pointSkew  pointKurt Classification  \n",
       "0  0.681895  0.047414   0.057740   1.707145             DM  \n",
       "1  0.685196  0.019226   0.165591   1.767373             DM  \n",
       "2  0.693147       NaN   0.000000   1.000000             DM  \n",
       "3  0.504435  0.010121   0.297802   1.712182             DM  \n",
       "4  0.676339  0.011720   0.046033   1.818068             DM  "
      ]
     },
     "execution_count": 70,
     "metadata": {},
     "output_type": "execute_result"
    }
   ],
   "source": [
    "features_tracks = features_tracks_origi[list(features_tracks_origi.columns[0:10])] \n",
    "features_tracks.head()"
   ]
  },
  {
   "cell_type": "code",
   "execution_count": 71,
   "metadata": {},
   "outputs": [],
   "source": [
    "from sklearn.model_selection import train_test_split\n",
    "\n",
    "train_set, test_set = train_test_split(features_tracks, test_size=0.2, random_state=42)"
   ]
  },
  {
   "cell_type": "code",
   "execution_count": 72,
   "metadata": {},
   "outputs": [
    {
     "data": {
      "text/html": [
       "<div>\n",
       "<style scoped>\n",
       "    .dataframe tbody tr th:only-of-type {\n",
       "        vertical-align: middle;\n",
       "    }\n",
       "\n",
       "    .dataframe tbody tr th {\n",
       "        vertical-align: top;\n",
       "    }\n",
       "\n",
       "    .dataframe thead th {\n",
       "        text-align: right;\n",
       "    }\n",
       "</style>\n",
       "<table border=\"1\" class=\"dataframe\">\n",
       "  <thead>\n",
       "    <tr style=\"text-align: right;\">\n",
       "      <th></th>\n",
       "      <th>Id</th>\n",
       "      <th>netDisp</th>\n",
       "      <th>efficiency</th>\n",
       "      <th>straightness</th>\n",
       "      <th>Asym</th>\n",
       "      <th>bending</th>\n",
       "      <th>pointSkew</th>\n",
       "      <th>pointKurt</th>\n",
       "      <th>Classification</th>\n",
       "    </tr>\n",
       "  </thead>\n",
       "  <tbody>\n",
       "    <tr>\n",
       "      <th>963</th>\n",
       "      <td>movienonoise2_Tracks_di_171</td>\n",
       "      <td>0.000000</td>\n",
       "      <td>0.000000</td>\n",
       "      <td>-0.500000</td>\n",
       "      <td>0.693147</td>\n",
       "      <td>0.100000</td>\n",
       "      <td>0.183519</td>\n",
       "      <td>3.935510</td>\n",
       "      <td>D</td>\n",
       "    </tr>\n",
       "    <tr>\n",
       "      <th>762</th>\n",
       "      <td>movienonoise1_Tracks_Di_167</td>\n",
       "      <td>1.000000</td>\n",
       "      <td>0.022222</td>\n",
       "      <td>-0.101015</td>\n",
       "      <td>0.693147</td>\n",
       "      <td>0.101015</td>\n",
       "      <td>2.267787</td>\n",
       "      <td>6.142857</td>\n",
       "      <td>D</td>\n",
       "    </tr>\n",
       "    <tr>\n",
       "      <th>334</th>\n",
       "      <td>movie2candledeno_Tracks_DM_125</td>\n",
       "      <td>6.432394</td>\n",
       "      <td>0.679336</td>\n",
       "      <td>0.592819</td>\n",
       "      <td>0.640875</td>\n",
       "      <td>0.045316</td>\n",
       "      <td>0.146892</td>\n",
       "      <td>2.063225</td>\n",
       "      <td>DM</td>\n",
       "    </tr>\n",
       "    <tr>\n",
       "      <th>889</th>\n",
       "      <td>movienonoise2_Tracks_di_97</td>\n",
       "      <td>0.000000</td>\n",
       "      <td>NaN</td>\n",
       "      <td>1.000000</td>\n",
       "      <td>NaN</td>\n",
       "      <td>0.000000</td>\n",
       "      <td>NaN</td>\n",
       "      <td>NaN</td>\n",
       "      <td>D</td>\n",
       "    </tr>\n",
       "    <tr>\n",
       "      <th>529</th>\n",
       "      <td>movie3candledeno_Tracks_DM_128</td>\n",
       "      <td>0.861252</td>\n",
       "      <td>1.000000</td>\n",
       "      <td>NaN</td>\n",
       "      <td>0.693147</td>\n",
       "      <td>NaN</td>\n",
       "      <td>0.000000</td>\n",
       "      <td>1.000000</td>\n",
       "      <td>DM</td>\n",
       "    </tr>\n",
       "  </tbody>\n",
       "</table>\n",
       "</div>"
      ],
      "text/plain": [
       "                                 Id   netDisp  efficiency  straightness  \\\n",
       "963     movienonoise2_Tracks_di_171  0.000000    0.000000     -0.500000   \n",
       "762     movienonoise1_Tracks_Di_167  1.000000    0.022222     -0.101015   \n",
       "334  movie2candledeno_Tracks_DM_125  6.432394    0.679336      0.592819   \n",
       "889      movienonoise2_Tracks_di_97  0.000000         NaN      1.000000   \n",
       "529  movie3candledeno_Tracks_DM_128  0.861252    1.000000           NaN   \n",
       "\n",
       "         Asym   bending  pointSkew  pointKurt Classification  \n",
       "963  0.693147  0.100000   0.183519   3.935510              D  \n",
       "762  0.693147  0.101015   2.267787   6.142857              D  \n",
       "334  0.640875  0.045316   0.146892   2.063225             DM  \n",
       "889       NaN  0.000000        NaN        NaN              D  \n",
       "529  0.693147       NaN   0.000000   1.000000             DM  "
      ]
     },
     "execution_count": 72,
     "metadata": {},
     "output_type": "execute_result"
    }
   ],
   "source": [
    "train_set.head ()"
   ]
  },
  {
   "cell_type": "code",
   "execution_count": 73,
   "metadata": {},
   "outputs": [],
   "source": [
    "def data_categorization(df, col):\n",
    "    #df['Cat_classification'] = df[col]\n",
    "    labels = df[col].astype('category').cat.categories.tolist()\n",
    "    replace_map_comp = {col: {k: v for k, v in zip(\n",
    "        labels, list(range(1, len(labels) + 1)))}}\n",
    "    df.replace(replace_map_comp, inplace=True)\n",
    "    return df\n",
    "\n",
    "def cleaning_columns (df,column_target):\n",
    "    df = df.drop(column_target, axis=1)\n",
    "    return df \n"
   ]
  },
  {
   "cell_type": "code",
   "execution_count": 74,
   "metadata": {},
   "outputs": [
    {
     "name": "stdout",
     "output_type": "stream",
     "text": [
      "<class 'pandas.core.frame.DataFrame'>\n",
      "Int64Index: 788 entries, 963 to 102\n",
      "Data columns (total 8 columns):\n",
      "netDisp           788 non-null float64\n",
      "efficiency        765 non-null float64\n",
      "straightness      709 non-null float64\n",
      "Asym              765 non-null float64\n",
      "bending           709 non-null float64\n",
      "pointSkew         765 non-null float64\n",
      "pointKurt         765 non-null float64\n",
      "Classification    788 non-null int64\n",
      "dtypes: float64(7), int64(1)\n",
      "memory usage: 55.4 KB\n"
     ]
    }
   ],
   "source": [
    "training_cleaned_data = (train_set.pipe(data_categorization, col='Classification').pipe (cleaning_columns,'Id')\n",
    "                    )\n",
    "training_cleaned_data.info()"
   ]
  },
  {
   "cell_type": "code",
   "execution_count": 75,
   "metadata": {},
   "outputs": [
    {
     "name": "stdout",
     "output_type": "stream",
     "text": [
      "788\n",
      "['netDisp', 'efficiency', 'straightness', 'Asym', 'bending', 'pointSkew', 'pointKurt']\n"
     ]
    }
   ],
   "source": [
    "def getting_working_vars (df,column_target):\n",
    "    X_train = df.drop(column_target, axis=1)\n",
    "    # You can covert the target variable to numpy\n",
    "    y_train = df[column_target].values\n",
    "   \n",
    "    return X_train,y_train\n",
    "\n",
    "X,Y = getting_working_vars (training_cleaned_data,['Classification'])\n",
    "\n",
    "print(len(X))\n",
    "print(list(X))"
   ]
  },
  {
   "cell_type": "code",
   "execution_count": 76,
   "metadata": {},
   "outputs": [],
   "source": [
    "from sklearn.base import BaseEstimator, TransformerMixin\n",
    "class FeatureSelector(BaseEstimator, TransformerMixin):\n",
    "    # Class Constructor\n",
    "    def __init__(self, feature_names):\n",
    "        self.feature_names = feature_names\n",
    "\n",
    "        # Return self nothing else to do here\n",
    "\n",
    "    def fit(self, X, y=None):\n",
    "        return self\n",
    "\n",
    "        # Method that describes what we need this transformer to do\n",
    "\n",
    "    def transform(self, X, y=None):\n",
    "        return X[\n",
    "            self.feature_names].values  # np.asarray(X[self.feature_names]).astype(str)#np.c_[X]#X[self.feature_names]#pd.DataFrame (X,columns= self.feature_names)\n"
   ]
  },
  {
   "cell_type": "code",
   "execution_count": 77,
   "metadata": {},
   "outputs": [],
   "source": [
    "from sklearn.pipeline import Pipeline\n",
    "from sklearn.preprocessing import MinMaxScaler\n",
    "from sklearn.impute import SimpleImputer\n",
    "\n",
    "num_feature_name =list(X)\n",
    "cat_feature_name = [\"Classification\"]\n",
    "num_feature_name\n",
    "full_pipeline = Pipeline([\n",
    "        ('selector', FeatureSelector(num_feature_name)),\n",
    "        ('imputer', SimpleImputer(strategy=\"median\")),\n",
    "        ('std_scaler', MinMaxScaler()),\n",
    "    ])"
   ]
  },
  {
   "cell_type": "code",
   "execution_count": 63,
   "metadata": {},
   "outputs": [
    {
     "name": "stdout",
     "output_type": "stream",
     "text": [
      "Fitting 5 folds for each of 267 candidates, totalling 1335 fits\n"
     ]
    },
    {
     "name": "stderr",
     "output_type": "stream",
     "text": [
      "[Parallel(n_jobs=-1)]: Using backend LokyBackend with 4 concurrent workers.\n",
      "[Parallel(n_jobs=-1)]: Done  50 tasks      | elapsed:    4.6s\n",
      "[Parallel(n_jobs=-1)]: Done 301 tasks      | elapsed:  1.4min\n",
      "[Parallel(n_jobs=-1)]: Done 551 tasks      | elapsed:  3.3min\n",
      "[Parallel(n_jobs=-1)]: Done 901 tasks      | elapsed:  5.4min\n",
      "[Parallel(n_jobs=-1)]: Done 1335 out of 1335 | elapsed:  7.8min finished\n",
      "/Users/ruddirodriguez/anaconda3/lib/python3.7/site-packages/sklearn/pipeline.py:356: DataConversionWarning: A column-vector y was passed when a 1d array was expected. Please change the shape of y to (n_samples,), for example using ravel().\n",
      "  self._final_estimator.fit(Xt, y, **fit_params)\n"
     ]
    },
    {
     "data": {
      "text/plain": [
       "GridSearchCV(cv=5, error_score='raise-deprecating',\n",
       "             estimator=Pipeline(memory=None,\n",
       "                                steps=[('full_pipeline',\n",
       "                                        Pipeline(memory=None,\n",
       "                                                 steps=[('selector',\n",
       "                                                         FeatureSelector(feature_names=['netDisp',\n",
       "                                                                                        'efficiency',\n",
       "                                                                                        'straightness',\n",
       "                                                                                        'Asym',\n",
       "                                                                                        'bending',\n",
       "                                                                                        'pointSkew',\n",
       "                                                                                        'pointKurt'])),\n",
       "                                                        ('imputer',\n",
       "                                                         SimpleImputer(add_indicator=False,\n",
       "                                                                       copy=True,\n",
       "                                                                       fill_value=None,\n",
       "                                                                       missing_values=nan,\n",
       "                                                                       st...\n",
       "                                                           oob_score=False,\n",
       "                                                           random_state=None,\n",
       "                                                           verbose=0,\n",
       "                                                           warm_start=False)],\n",
       "                          'model__max_depth': [25, 30, None],\n",
       "                          'model__max_leaf_nodes': [2, 5, 10],\n",
       "                          'model__min_samples_leaf': [10, 15, 100],\n",
       "                          'model__n_estimators': [10, 100, 1000]}],\n",
       "             pre_dispatch='2*n_jobs', refit='recall_macro',\n",
       "             return_train_score=False,\n",
       "             scoring=['precision_macro', 'recall_macro', 'f1_macro',\n",
       "                      'balanced_accuracy'],\n",
       "             verbose=1)"
      ]
     },
     "execution_count": 63,
     "metadata": {},
     "output_type": "execute_result"
    }
   ],
   "source": [
    "from sklearn.ensemble import RandomForestClassifier \n",
    "from sklearn.linear_model import LogisticRegression\n",
    "from sklearn.model_selection import RandomizedSearchCV\n",
    "from sklearn.model_selection import GridSearchCV\n",
    "#classifier = LogisticRegression;\n",
    "\n",
    "\n",
    "# The full pipeline as a step in another pipeline with an estimator as the final step\n",
    "full_pipeline_m = Pipeline(steps=[('full_pipeline', full_pipeline),\n",
    "\n",
    "                                ('model', LogisticRegression(class_weight='balanced'))])\n",
    "\n",
    "\n",
    "param_grid = [{'model': [LogisticRegression()],\n",
    "              'model__penalty': ['l1', 'l2'],\n",
    "              'model__C': [10, 25, 30, 40],\n",
    "              'model__class_weight':['balanced'],\n",
    "              'full_pipeline__imputer__strategy':['mean','median','most_frequent'],\n",
    "              },\n",
    "              {\"model\": [RandomForestClassifier()],\n",
    "               \"model__n_estimators\": [10, 100, 1000],\n",
    "               \"model__max_depth\":[25,30,None],\n",
    "               \"model__min_samples_leaf\":[10,15,100],\n",
    "               \"model__max_leaf_nodes\": [2, 5,10],\n",
    "               'full_pipeline__imputer__strategy':['mean','median','most_frequent'],\n",
    "              }]\n",
    "\n",
    "scoring = ['precision_macro', 'recall_macro', 'f1_macro',\n",
    "               'balanced_accuracy']\n",
    "\n",
    "grid_search = GridSearchCV(full_pipeline_m, param_grid, cv=5,\n",
    "                                     n_jobs=-1, verbose=1, scoring=scoring, refit='recall_macro')\n",
    "    #\n",
    "grid_search.fit(X,Y)"
   ]
  },
  {
   "cell_type": "code",
   "execution_count": 78,
   "metadata": {},
   "outputs": [
    {
     "name": "stdout",
     "output_type": "stream",
     "text": [
      "<class 'pandas.core.frame.DataFrame'>\n",
      "Int64Index: 197 entries, 613 to 717\n",
      "Data columns (total 8 columns):\n",
      "netDisp           197 non-null float64\n",
      "efficiency        193 non-null float64\n",
      "straightness      172 non-null float64\n",
      "Asym              193 non-null float64\n",
      "bending           172 non-null float64\n",
      "pointSkew         193 non-null float64\n",
      "pointKurt         193 non-null float64\n",
      "Classification    197 non-null int64\n",
      "dtypes: float64(7), int64(1)\n",
      "memory usage: 13.9 KB\n",
      "197\n",
      "['netDisp', 'efficiency', 'straightness', 'Asym', 'bending', 'pointSkew', 'pointKurt']\n"
     ]
    }
   ],
   "source": [
    "test_cleaned_data = (test_set.pipe(data_categorization, col='Classification').pipe (cleaning_columns,'Id')\n",
    "                    )\n",
    "test_cleaned_data.info()\n",
    "X_test,Y_test = getting_working_vars (test_cleaned_data,['Classification'])\n",
    "\n",
    "print(len(X_test))\n",
    "print(list(X_test))"
   ]
  },
  {
   "cell_type": "code",
   "execution_count": 82,
   "metadata": {},
   "outputs": [
    {
     "name": "stdout",
     "output_type": "stream",
     "text": [
      "{'full_pipeline__imputer__strategy': 'most_frequent', 'model': RandomForestClassifier(bootstrap=True, class_weight=None, criterion='gini',\n",
      "                       max_depth=25, max_features='auto', max_leaf_nodes=10,\n",
      "                       min_impurity_decrease=0.0, min_impurity_split=None,\n",
      "                       min_samples_leaf=10, min_samples_split=2,\n",
      "                       min_weight_fraction_leaf=0.0, n_estimators=100,\n",
      "                       n_jobs=None, oob_score=False, random_state=None,\n",
      "                       verbose=0, warm_start=False), 'model__max_depth': 25, 'model__max_leaf_nodes': 10, 'model__min_samples_leaf': 10, 'model__n_estimators': 100}\n",
      "0.9695431472081218\n",
      "              precision    recall  f1-score   support\n",
      "\n",
      "           1       0.94      0.97      0.96        70\n",
      "           2       0.98      0.97      0.98       127\n",
      "\n",
      "    accuracy                           0.97       197\n",
      "   macro avg       0.96      0.97      0.97       197\n",
      "weighted avg       0.97      0.97      0.97       197\n",
      "\n"
     ]
    }
   ],
   "source": [
    "from sklearn import metrics\n",
    "print(grid_search.best_params_)\n",
    "\n",
    "predicted = grid_search.predict(X_test)\n",
    "#predicted\n",
    "#len(y_train)\n",
    "print(metrics.accuracy_score(Y_test, predicted))\n",
    "print(metrics.classification_report(Y_test, predicted))"
   ]
  },
  {
   "cell_type": "code",
   "execution_count": null,
   "metadata": {},
   "outputs": [],
   "source": []
  }
 ],
 "metadata": {
  "kernelspec": {
   "display_name": "Python 3",
   "language": "python",
   "name": "python3"
  },
  "language_info": {
   "codemirror_mode": {
    "name": "ipython",
    "version": 3
   },
   "file_extension": ".py",
   "mimetype": "text/x-python",
   "name": "python",
   "nbconvert_exporter": "python",
   "pygments_lexer": "ipython3",
   "version": "3.7.3"
  }
 },
 "nbformat": 4,
 "nbformat_minor": 4
}
